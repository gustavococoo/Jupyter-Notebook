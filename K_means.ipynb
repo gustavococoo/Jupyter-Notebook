{
  "nbformat": 4,
  "nbformat_minor": 0,
  "metadata": {
    "colab": {
      "provenance": [],
      "include_colab_link": true
    },
    "kernelspec": {
      "name": "python3",
      "display_name": "Python 3"
    },
    "language_info": {
      "name": "python"
    },
    "accelerator": "GPU",
    "gpuClass": "standard"
  },
  "cells": [
    {
      "cell_type": "markdown",
      "metadata": {
        "id": "view-in-github",
        "colab_type": "text"
      },
      "source": [
        "<a href=\"https://colab.research.google.com/github/gustavococoo/Jupyter-Notebook/blob/main/K_means.ipynb\" target=\"_parent\"><img src=\"https://colab.research.google.com/assets/colab-badge.svg\" alt=\"Open In Colab\"/></a>"
      ]
    },
    {
      "cell_type": "code",
      "metadata": {
        "id": "Vg1KFXlK0vvQ"
      },
      "source": [
        "import numpy as np #para manipular os vetores\n",
        "from matplotlib import pyplot as plt #para plotar os gráficos\n",
        "from sklearn.cluster import KMeans #para usar o KMeans"
      ],
      "execution_count": 1,
      "outputs": []
    },
    {
      "cell_type": "code",
      "source": [
        "from google.colab import drive\n",
        "drive.mount('/content/drive')"
      ],
      "metadata": {
        "colab": {
          "base_uri": "https://localhost:8080/"
        },
        "id": "11rNRjo7RV5K",
        "outputId": "53089749-96c0-4785-b715-c7cf350f1ce0"
      },
      "execution_count": 3,
      "outputs": [
        {
          "output_type": "stream",
          "name": "stdout",
          "text": [
            "Mounted at /content/drive\n"
          ]
        }
      ]
    },
    {
      "cell_type": "code",
      "metadata": {
        "id": "P762o_151CDH"
      },
      "source": [
        "novo_dataset = np.array(\n",
        "#matriz com as coordenadas geográficas de cada loja\n",
        "[\n",
        "[-25, -46], #são paulo\n",
        "[-25, -46], #são paulo\n",
        "[-25, -46], #são paulo\n",
        "[-25, -46], #são paulo\n",
        "[-25, -46], #são paulo\n",
        "[-25, -46], #são paulo\n",
        "[-25, -46], #são paulo\n",
        "[-25, -46], #são paulo\n",
        "[-25, -46], #são paulo\n",
        "[-25, -46], #são paulo\n",
        "[-25, -46], #são paulo\n",
        "[-25, -46], #são paulo\n",
        "[-25, -46], #são paulo\n",
        "[-25, -46], #são paulo\n",
        "[-25, -46], #são paulo\n",
        "[-25, -46], #são paulo\n",
        "[-25, -46], #são paulo\n",
        "[-25, -46], #são paulo\n",
        "[-25, -46], #são paulo\n",
        "[-25, -46], #são paulo\n",
        "[-25, -46], #são paulo\n",
        "[-22, -43], #rio de janeiro\n",
        "[-22, -43], #rio de janeiro\n",
        "[-22, -43], #rio de janeiro\n",
        "[-22, -43], #rio de janeiro\n",
        "[-22, -43], #rio de janeiro\n",
        "[-22, -43], #rio de janeiro\n",
        "[-22, -43], #rio de janeiro\n",
        "[-22, -43], #rio de janeiro\n",
        "[-22, -43], #rio de janeiro\n",
        "[-22, -43], #rio de janeiro\n",
        "[-22, -43], #rio de janeiro\n",
        "[-22, -43], #rio de janeiro\n",
        "[-25, -49], #curitiba\n",
        "[-25, -49], #curitiba\n",
        "[-25, -49], #curitiba\n",
        "[-25, -49], #curitiba\n",
        "[-25, -49], #curitiba\n",
        "[-25, -49], #curitiba\n",
        "[-30, -51], #porto alegre\n",
        "[-30, -51], #porto alegre\n",
        "[-30, -51], #porto alegre\n",
        "[-19, -43], #belo horizonte\n",
        "[-19, -43], #belo horizonte\n",
        "[-19, -43], #belo horizonte\n",
        "[-19, -43], #belo horizonte\n",
        "[-19, -43], #belo horizonte\n",
        "[-19, -43], #belo horizonte\n",
        "[-19, -43], #belo horizonte\n",
        "[-19, -43], #belo horizonte\n",
        "[-15, -47], #brasilia\n",
        "[-15, -47], #brasilia\n",
        "[-15, -47], #brasilia\n",
        "[-15, -47], #brasilia\n",
        "[-15, -47], #brasilia\n",
        "[-15, -47], #brasilia\n",
        "[-12, -38], #salvador\n",
        "[-12, -38], #salvador\n",
        "[-12, -38], #salvador\n",
        "[-8, -34], #recife\n",
        "[-8, -34], #recife\n",
        "[-8, -34], #recife\n",
        "[-16, -49], #goiania\n",
        "[-16, -49], #goiania\n",
        "[-3, -60], #manaus\n",
        "[-3, -60], #manaus\n",
        "[-3, -60], #manaus\n",
        "[-3, -60], #manaus\n",
        "[-22, -47], #campinas\n",
        "[-22, -47], #campinas\n",
        "[-3, -38], #fortaleza\n",
        "[-3, -38], #fortaleza\n",
        "[-3, -38], #fortaleza\n",
        "[-3, -38], #fortaleza\n",
        "[-3, -38], #fortaleza\n",
        "[-3, -38], #fortaleza\n",
        "[-21, -47], #ribeirão preto\n",
        "[-23, -51], #maringa\n",
        "[-27, -48], #florianópolis\n",
        "[-27, -48], #florianópolis\n",
        "[-21, -43], #juiz de fora\n",
        "[-1, -48], #belém\n",
        "[-1, -48], #belém\n",
        "[-1, -48], #belém\n",
        "[-1, -48], #belém\n",
        "[-10, -67], #rio branco\n",
        "[-8, -63] #porto velho\n",
        "]\n",
        ")\n",
        "plt.scatter(novo_dataset[:,1], novo_dataset[:,0]) #posicionamento dos eixos x e y\n",
        "plt.xlim(-75, -30) #range do eixo x\n",
        "plt.ylim(-50, 10) #range do eixo y\n",
        "plt.grid() #função que desenha a grade no nosso gráfico"
      ],
      "execution_count": null,
      "outputs": []
    },
    {
      "cell_type": "code",
      "source": [
        "import pandas as pd\n",
        "b = pd.read_csv('IRIS.csv')\n",
        "b = b.drop(columns= ['species'])\n",
        "b.head()"
      ],
      "metadata": {
        "colab": {
          "base_uri": "https://localhost:8080/",
          "height": 206
        },
        "id": "VJY8W_-qYn0e",
        "outputId": "68e2db22-8d53-4487-a1b6-1e6b81f9bcba"
      },
      "execution_count": 36,
      "outputs": [
        {
          "output_type": "execute_result",
          "data": {
            "text/plain": [
              "   sepal_length  sepal_width  petal_length  petal_width\n",
              "0           5.1          3.5           1.4          0.2\n",
              "1           4.9          3.0           1.4          0.2\n",
              "2           4.7          3.2           1.3          0.2\n",
              "3           4.6          3.1           1.5          0.2\n",
              "4           5.0          3.6           1.4          0.2"
            ],
            "text/html": [
              "\n",
              "  <div id=\"df-893ca509-305f-459c-8f24-d8fcc73148d9\">\n",
              "    <div class=\"colab-df-container\">\n",
              "      <div>\n",
              "<style scoped>\n",
              "    .dataframe tbody tr th:only-of-type {\n",
              "        vertical-align: middle;\n",
              "    }\n",
              "\n",
              "    .dataframe tbody tr th {\n",
              "        vertical-align: top;\n",
              "    }\n",
              "\n",
              "    .dataframe thead th {\n",
              "        text-align: right;\n",
              "    }\n",
              "</style>\n",
              "<table border=\"1\" class=\"dataframe\">\n",
              "  <thead>\n",
              "    <tr style=\"text-align: right;\">\n",
              "      <th></th>\n",
              "      <th>sepal_length</th>\n",
              "      <th>sepal_width</th>\n",
              "      <th>petal_length</th>\n",
              "      <th>petal_width</th>\n",
              "    </tr>\n",
              "  </thead>\n",
              "  <tbody>\n",
              "    <tr>\n",
              "      <th>0</th>\n",
              "      <td>5.1</td>\n",
              "      <td>3.5</td>\n",
              "      <td>1.4</td>\n",
              "      <td>0.2</td>\n",
              "    </tr>\n",
              "    <tr>\n",
              "      <th>1</th>\n",
              "      <td>4.9</td>\n",
              "      <td>3.0</td>\n",
              "      <td>1.4</td>\n",
              "      <td>0.2</td>\n",
              "    </tr>\n",
              "    <tr>\n",
              "      <th>2</th>\n",
              "      <td>4.7</td>\n",
              "      <td>3.2</td>\n",
              "      <td>1.3</td>\n",
              "      <td>0.2</td>\n",
              "    </tr>\n",
              "    <tr>\n",
              "      <th>3</th>\n",
              "      <td>4.6</td>\n",
              "      <td>3.1</td>\n",
              "      <td>1.5</td>\n",
              "      <td>0.2</td>\n",
              "    </tr>\n",
              "    <tr>\n",
              "      <th>4</th>\n",
              "      <td>5.0</td>\n",
              "      <td>3.6</td>\n",
              "      <td>1.4</td>\n",
              "      <td>0.2</td>\n",
              "    </tr>\n",
              "  </tbody>\n",
              "</table>\n",
              "</div>\n",
              "      <button class=\"colab-df-convert\" onclick=\"convertToInteractive('df-893ca509-305f-459c-8f24-d8fcc73148d9')\"\n",
              "              title=\"Convert this dataframe to an interactive table.\"\n",
              "              style=\"display:none;\">\n",
              "        \n",
              "  <svg xmlns=\"http://www.w3.org/2000/svg\" height=\"24px\"viewBox=\"0 0 24 24\"\n",
              "       width=\"24px\">\n",
              "    <path d=\"M0 0h24v24H0V0z\" fill=\"none\"/>\n",
              "    <path d=\"M18.56 5.44l.94 2.06.94-2.06 2.06-.94-2.06-.94-.94-2.06-.94 2.06-2.06.94zm-11 1L8.5 8.5l.94-2.06 2.06-.94-2.06-.94L8.5 2.5l-.94 2.06-2.06.94zm10 10l.94 2.06.94-2.06 2.06-.94-2.06-.94-.94-2.06-.94 2.06-2.06.94z\"/><path d=\"M17.41 7.96l-1.37-1.37c-.4-.4-.92-.59-1.43-.59-.52 0-1.04.2-1.43.59L10.3 9.45l-7.72 7.72c-.78.78-.78 2.05 0 2.83L4 21.41c.39.39.9.59 1.41.59.51 0 1.02-.2 1.41-.59l7.78-7.78 2.81-2.81c.8-.78.8-2.07 0-2.86zM5.41 20L4 18.59l7.72-7.72 1.47 1.35L5.41 20z\"/>\n",
              "  </svg>\n",
              "      </button>\n",
              "      \n",
              "  <style>\n",
              "    .colab-df-container {\n",
              "      display:flex;\n",
              "      flex-wrap:wrap;\n",
              "      gap: 12px;\n",
              "    }\n",
              "\n",
              "    .colab-df-convert {\n",
              "      background-color: #E8F0FE;\n",
              "      border: none;\n",
              "      border-radius: 50%;\n",
              "      cursor: pointer;\n",
              "      display: none;\n",
              "      fill: #1967D2;\n",
              "      height: 32px;\n",
              "      padding: 0 0 0 0;\n",
              "      width: 32px;\n",
              "    }\n",
              "\n",
              "    .colab-df-convert:hover {\n",
              "      background-color: #E2EBFA;\n",
              "      box-shadow: 0px 1px 2px rgba(60, 64, 67, 0.3), 0px 1px 3px 1px rgba(60, 64, 67, 0.15);\n",
              "      fill: #174EA6;\n",
              "    }\n",
              "\n",
              "    [theme=dark] .colab-df-convert {\n",
              "      background-color: #3B4455;\n",
              "      fill: #D2E3FC;\n",
              "    }\n",
              "\n",
              "    [theme=dark] .colab-df-convert:hover {\n",
              "      background-color: #434B5C;\n",
              "      box-shadow: 0px 1px 3px 1px rgba(0, 0, 0, 0.15);\n",
              "      filter: drop-shadow(0px 1px 2px rgba(0, 0, 0, 0.3));\n",
              "      fill: #FFFFFF;\n",
              "    }\n",
              "  </style>\n",
              "\n",
              "      <script>\n",
              "        const buttonEl =\n",
              "          document.querySelector('#df-893ca509-305f-459c-8f24-d8fcc73148d9 button.colab-df-convert');\n",
              "        buttonEl.style.display =\n",
              "          google.colab.kernel.accessAllowed ? 'block' : 'none';\n",
              "\n",
              "        async function convertToInteractive(key) {\n",
              "          const element = document.querySelector('#df-893ca509-305f-459c-8f24-d8fcc73148d9');\n",
              "          const dataTable =\n",
              "            await google.colab.kernel.invokeFunction('convertToInteractive',\n",
              "                                                     [key], {});\n",
              "          if (!dataTable) return;\n",
              "\n",
              "          const docLinkHtml = 'Like what you see? Visit the ' +\n",
              "            '<a target=\"_blank\" href=https://colab.research.google.com/notebooks/data_table.ipynb>data table notebook</a>'\n",
              "            + ' to learn more about interactive tables.';\n",
              "          element.innerHTML = '';\n",
              "          dataTable['output_type'] = 'display_data';\n",
              "          await google.colab.output.renderOutput(dataTable, element);\n",
              "          const docLink = document.createElement('div');\n",
              "          docLink.innerHTML = docLinkHtml;\n",
              "          element.appendChild(docLink);\n",
              "        }\n",
              "      </script>\n",
              "    </div>\n",
              "  </div>\n",
              "  "
            ]
          },
          "metadata": {},
          "execution_count": 36
        }
      ]
    },
    {
      "cell_type": "code",
      "metadata": {
        "id": "rpr_KCW01C64",
        "colab": {
          "base_uri": "https://localhost:8080/",
          "height": 269
        },
        "outputId": "a0b49ced-51f2-409e-a187-f9440b43851b"
      },
      "source": [
        "kmeans = KMeans(n_clusters = 3, #numero de clusters\n",
        "init = 'random', n_init = 60, #algoritmo que define a posição dos clusters de maneira mais assertiva\n",
        "max_iter = 1) #numero máximo de iterações\n",
        "pred_y = kmeans.fit_predict(b)\n",
        "plt.scatter(b['sepal_length'], b['sepal_width'], c = pred_y) #posicionamento dos eixos x e y\n",
        "plt.xlim(-5, 10) #range do eixo x\n",
        "plt.ylim(-5, 10) #range do eixo y\n",
        "plt.grid() #função que desenha a grade no nosso gráfico\n",
        "plt.scatter(kmeans.cluster_centers_[:,1],kmeans.cluster_centers_[:,0], s = 70, c = 'red') #posição de cada centroide no gráfico\n",
        "plt.show()"
      ],
      "execution_count": 39,
      "outputs": [
        {
          "output_type": "display_data",
          "data": {
            "text/plain": [
              "<Figure size 432x288 with 1 Axes>"
            ],
            "image/png": "[encoded data removed]"
          },
          "metadata": {
            "needs_background": "light"
          }
        }
      ]
    }
  ]
}